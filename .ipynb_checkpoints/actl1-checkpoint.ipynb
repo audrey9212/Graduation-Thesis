{
 "cells": [
  {
   "cell_type": "code",
   "execution_count": null,
   "id": "90b6aa4c",
   "metadata": {},
   "outputs": [],
   "source": [
    "def main():\n",
    "    print(\"This is the main function of actl1.py\")\n",
    "    # Add your code logic here\n",
    "    # For example, you can call another function or perform some operations\n",
    "    another_function()"
   ]
  }
 ],
 "metadata": {
  "jupytext": {
   "cell_metadata_filter": "-all",
   "main_language": "python",
   "notebook_metadata_filter": "-all"
  }
 },
 "nbformat": 4,
 "nbformat_minor": 5
}
