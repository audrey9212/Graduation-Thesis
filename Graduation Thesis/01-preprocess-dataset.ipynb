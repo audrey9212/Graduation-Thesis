{
 "cells": [
  {
   "cell_type": "code",
   "execution_count": 1,
   "id": "47806096-eab8-4fff-9949-0ef80f98398e",
   "metadata": {},
   "outputs": [],
   "source": [
    "import pandas as pd\n",
    "import numpy as np\n",
    "from sklearn.model_selection import train_test_split\n",
    "from sklearn.impute import SimpleImputer\n",
    "from sklearn.preprocessing import OrdinalEncoder, OneHotEncoder, StandardScaler, FunctionTransformer, PolynomialFeatures, KBinsDiscretizer, SplineTransformer\n",
    "from sklearn.compose import ColumnTransformer\n",
    "from sklearn.pipeline import Pipeline\n",
    "from sklearn.base import BaseEstimator, TransformerMixin\n",
    "import joblib\n",
    "import sys, os\n",
    "from utils import get_data_path\n",
    "from utils import get_save_path"
   ]
  },
  {
   "cell_type": "markdown",
   "id": "06fcdbc5-83fd-46a8-9a2b-47f249960d9d",
   "metadata": {},
   "source": [
    "# 1. Load the dataset"
   ]
  },
  {
   "cell_type": "code",
   "execution_count": 2,
   "id": "375f6e36-4967-4cc3-8e4c-f8f8c5faf986",
   "metadata": {},
   "outputs": [],
   "source": [
    "df = pd.read_csv(get_data_path(\"cell2celltrain.csv\"))"
   ]
  },
  {
   "cell_type": "markdown",
   "id": "36df3fd5-818d-4114-bcf4-680a2b997faa",
   "metadata": {},
   "source": [
    "# Convert target column to binary"
   ]
  },
  {
   "cell_type": "code",
   "execution_count": 3,
   "id": "d82d9230-35e4-424c-a38e-93cf0593ab2f",
   "metadata": {},
   "outputs": [],
   "source": [
    "df['Churn'] = df['Churn'].map({'No': 0, 'Yes': 1})"
   ]
  },
  {
   "cell_type": "markdown",
   "id": "3017817a-6daa-4384-bd7f-c0ccf63bf311",
   "metadata": {},
   "source": [
    "# 2. Feature Engineering and Cleaning"
   ]
  },
  {
   "cell_type": "markdown",
   "id": "46d39b0c-62be-4c9b-8789-2146733c6035",
   "metadata": {},
   "source": [
    "# Drop highly redundant or uninformative columns"
   ]
  },
  {
   "cell_type": "code",
   "execution_count": 4,
   "id": "7ee6a8f8-76df-4946-9fde-f332c1753c1d",
   "metadata": {
    "scrolled": true
   },
   "outputs": [
    {
     "name": "stdout",
     "output_type": "stream",
     "text": [
      "UniqueSubs vs ActiveSubs corr = 0.7757755146495737\n"
     ]
    }
   ],
   "source": [
    "#check if 'UniqueSubs'and 'ActiveSubs' are highly correlated\n",
    "corr = df[['UniqueSubs','ActiveSubs']].corr().iloc[0,1]\n",
    "print(\"UniqueSubs vs ActiveSubs corr =\", corr)"
   ]
  },
  {
   "cell_type": "markdown",
   "id": "bb0e093f-3745-4298-ae06-605591b6bbe9",
   "metadata": {},
   "source": [
    "# Create 'InactiveSubs' feature"
   ]
  },
  {
   "cell_type": "code",
   "execution_count": 5,
   "id": "94c91f0e-f4e8-4551-b0c5-c4795d05ddd5",
   "metadata": {},
   "outputs": [],
   "source": [
    "# InactiveSubs = UniqueSubs - ActiveSubs\n",
    "df['InactiveSubs'] = df['UniqueSubs'] - df['ActiveSubs']"
   ]
  },
  {
   "cell_type": "code",
   "execution_count": 6,
   "id": "7f595110-48dd-402a-a2f5-80894104bc73",
   "metadata": {},
   "outputs": [
    {
     "name": "stdout",
     "output_type": "stream",
     "text": [
      "Difference counts between Handsets and HandsetModels:\n",
      "HandsetDiff\n",
      "0.0     42166\n",
      "1.0      6620\n",
      "2.0      1473\n",
      "3.0       467\n",
      "4.0       166\n",
      "5.0        75\n",
      "6.0        35\n",
      "7.0        15\n",
      "8.0        13\n",
      "9.0         3\n",
      "10.0        5\n",
      "11.0        5\n",
      "12.0        1\n",
      "15.0        1\n",
      "19.0        1\n",
      "Name: count, dtype: int64\n",
      "\n",
      "Percentage of rows where Handsets == HandsetModels: 82.60%\n"
     ]
    }
   ],
   "source": [
    "#highly corelated columns\n",
    "df['HandsetDiff'] = df['Handsets'] - df['HandsetModels']\n",
    "\n",
    "print(\"Difference counts between Handsets and HandsetModels:\")\n",
    "print(df['HandsetDiff'].value_counts().sort_index())\n",
    "\n",
    "same_ratio = (df['HandsetDiff'] == 0).mean()\n",
    "print(f\"\\nPercentage of rows where Handsets == HandsetModels: {same_ratio:.2%}\")\n"
   ]
  },
  {
   "cell_type": "code",
   "execution_count": 7,
   "id": "53d2e233-55c2-4482-85dc-ed49999aa8d1",
   "metadata": {},
   "outputs": [
    {
     "name": "stdout",
     "output_type": "stream",
     "text": [
      "Columns with constant value (only one unique value):\n",
      "[]\n",
      "\n",
      "Numeric columns with mean close to 0 (possibly uninformative):\n",
      "['PercChangeMinutes', 'PercChangeRevenues', 'CallForwardingCalls', 'RetentionCalls', 'RetentionOffersAccepted']\n"
     ]
    }
   ],
   "source": [
    "# delete columns that only have one value\n",
    "const_cols = [col for col in df.columns if df[col].nunique(dropna=False) == 1]\n",
    "\n",
    "print(\"Columns with constant value (only one unique value):\")\n",
    "print(const_cols)\n",
    "df = df.drop(columns=const_cols)\n",
    "\n",
    "# numeric value close to 0 and mean around 0\n",
    "numeric_cols = df.select_dtypes(include=['int64', 'float64']).columns\n",
    "\n",
    "low_mean_cols = [col for col in numeric_cols if df[col].mean() < 0.05]\n",
    "\n",
    "print(\"\\nNumeric columns with mean close to 0 (possibly uninformative):\")\n",
    "print(low_mean_cols)\n",
    "\n",
    "# delete CallForwardingCalls based on the eda that CallForwardingCalls has 0 correlation with churn\n"
   ]
  },
  {
   "cell_type": "markdown",
   "id": "01627207-050e-4e69-9954-ebb80fda9ebd",
   "metadata": {},
   "source": [
    "# Drop Uneccessary Columns"
   ]
  },
  {
   "cell_type": "code",
   "execution_count": 8,
   "id": "70625dcc-4a05-4cba-88c2-990d77e34b69",
   "metadata": {},
   "outputs": [],
   "source": [
    "# 刪除與 InactiveSubs 高度重複的欄位\n",
    "df = df.drop(columns=['UniqueSubs', 'ActiveSubs'])\n",
    "\n",
    "# 刪除 BlockedCalls 與 DroppedBlockedCalls（保留 DroppedCalls）\n",
    "df = df.drop(columns=['BlockedCalls', 'DroppedBlockedCalls'])\n",
    "\n",
    "# 刪除與 Handsets 高度重複的 HandsetModels\n",
    "df = df.drop(columns=['HandsetModels'])\n",
    "\n",
    "# 刪除與 Churn 無相關的 CallForwardingCalls\n",
    "df = df.drop(columns=['CallForwardingCalls'])\n",
    "\n",
    "# 刪除互補 dummy\n",
    "df = df.drop(columns=['NotNewCellphoneUser'])  \n",
    "# 刪除無意義 ID 欄位\n",
    "df = df.drop(columns=['CustomerID'])  "
   ]
  },
  {
   "cell_type": "markdown",
   "id": "775e51ef-7dfa-4ebe-9de6-06e17c707a6b",
   "metadata": {},
   "source": [
    "# 3. Remove Duplicate Rows"
   ]
  },
  {
   "cell_type": "code",
   "execution_count": 9,
   "id": "4d45a04e-4a8e-4b67-bf71-21557430a703",
   "metadata": {},
   "outputs": [],
   "source": [
    "df.drop_duplicates(inplace=True)\n",
    "df.reset_index(drop=True, inplace=True)"
   ]
  },
  {
   "cell_type": "markdown",
   "id": "969ebcb5-81f2-4023-b43e-6cfc5295f29a",
   "metadata": {},
   "source": [
    "# 4. Train/Validation/Test Split"
   ]
  },
  {
   "cell_type": "code",
   "execution_count": 10,
   "id": "e198ebeb-3dc7-42b5-9150-b7b63cf9c05e",
   "metadata": {},
   "outputs": [],
   "source": [
    "X = df.drop(columns=['Churn'])\n",
    "y = df['Churn']\n",
    "# test set（20%）\n",
    "X_main, X_test, y_main, y_test = train_test_split(\n",
    "    X, y, test_size=0.2, random_state=42, stratify=y\n",
    ")\n",
    "\n",
    "# train set 60%\n",
    "X_train, X_val, y_train, y_val = train_test_split(\n",
    "    X_main, y_main, test_size=0.25, random_state=42, stratify=y_main\n",
    ")"
   ]
  },
  {
   "cell_type": "markdown",
   "id": "231a8040-f6d1-4910-9da8-b5c1be84713f",
   "metadata": {},
   "source": [
    "# 5. Custom Target Mean Encoder (with smoothing)"
   ]
  },
  {
   "cell_type": "code",
   "execution_count": 11,
   "id": "92241edf-2812-44e1-96bb-a682dcca5f7e",
   "metadata": {},
   "outputs": [],
   "source": [
    "# Target Mean Encoder\n",
    "class TargetMeanEncoder(BaseEstimator, TransformerMixin):\n",
    "    def __init__(self, col, target='Churn', smoothing=10):\n",
    "        self.col = col\n",
    "        self.target = target\n",
    "        self.smoothing = smoothing\n",
    "\n",
    "    def fit(self, X, y):\n",
    "        df = pd.DataFrame({self.col: X[self.col], self.target: y})\n",
    "        self.global_mean_ = df[self.target].mean()\n",
    "        agg = df.groupby(self.col)[self.target].agg(['mean', 'count'])\n",
    "        smoothing = 1 / (1 + np.exp(-(agg['count'] - self.smoothing))) # sigmoid smoothing\n",
    "        self.mapping_ = self.global_mean_ * (1 - smoothing) + agg['mean']\n",
    "        return self\n",
    "\n",
    "    def transform(self, X):\n",
    "        return X[[self.col]].apply(lambda col: col.map(self.mapping_).fillna(self.global_mean_))\n",
    "\n"
   ]
  },
  {
   "cell_type": "markdown",
   "id": "4178747a-0d22-4e2d-84be-db109c3520f0",
   "metadata": {},
   "source": [
    "# 6. Special Feature Preprocessor： HandsetPrice & Outlier（invalid value-> NaN）"
   ]
  },
  {
   "cell_type": "code",
   "execution_count": 12,
   "id": "8e7af9b1-8ec6-47c7-bb61-89ffdc294193",
   "metadata": {
    "scrolled": true
   },
   "outputs": [
    {
     "name": "stdout",
     "output_type": "stream",
     "text": [
      "MonthlyRevenue has 1 negative values\n",
      "TotalRecurringCharge has 6 negative values\n",
      "CurrentEquipmentDays has 45 negative values\n"
     ]
    }
   ],
   "source": [
    "# Check negetive values in those columns\n",
    "non_negative_cols = [\n",
    "    'MonthlyRevenue', 'MonthlyMinutes', 'OverageMinutes',\n",
    "    'TotalRecurringCharge', 'DirectorAssistedCalls', 'RoamingCalls',\n",
    "    'DroppedCalls', 'UnansweredCalls', 'CustomerCareCalls',\n",
    "    'ThreewayCalls', 'ReceivedCalls', 'OutboundCalls', 'InboundCalls',\n",
    "    'PeakCallsInOut', 'OffPeakCallsInOut', 'CallWaitingCalls',\n",
    "    'Handsets', 'CurrentEquipmentDays', 'RetentionCalls',\n",
    "    'RetentionOffersAccepted', 'ReferralsMadeBySubscriber',\n",
    "    'AdjustmentsToCreditRating', 'InactiveSubs'\n",
    "]\n",
    "\n",
    "for col in non_negative_cols:\n",
    "    num_neg = (X_train[col] < 0).sum()\n",
    "    if num_neg > 0:\n",
    "        print(f\"{col} has {num_neg} negative values\")\n"
   ]
  },
  {
   "cell_type": "code",
   "execution_count": 13,
   "id": "9156c469-2d9a-4329-8a34-efeeb702a45e",
   "metadata": {},
   "outputs": [],
   "source": [
    "def preprocess_special_features(df):\n",
    "    df = df.copy()\n",
    "    # HandsetPrice\n",
    "    df['HandsetPrice_Clean'] = pd.to_numeric(df['HandsetPrice'], errors='coerce')\n",
    "    df['HandsetPrice_Unknown'] = (df['HandsetPrice'] == 'Unknown').astype(int)\n",
    "    df.drop(columns=['HandsetPrice'], inplace=True)  \n",
    "\n",
    "    \n",
    "    non_negative_cols = [\n",
    "        'MonthlyRevenue', 'MonthlyMinutes', 'OverageMinutes',\n",
    "        'TotalRecurringCharge', 'DirectorAssistedCalls', 'RoamingCalls',\n",
    "        'DroppedCalls', 'UnansweredCalls', 'CustomerCareCalls',\n",
    "        'ThreewayCalls', 'ReceivedCalls', 'OutboundCalls', 'InboundCalls',\n",
    "        'PeakCallsInOut', 'OffPeakCallsInOut', 'CallWaitingCalls',\n",
    "        'Handsets', 'CurrentEquipmentDays', 'RetentionCalls',\n",
    "        'RetentionOffersAccepted', 'ReferralsMadeBySubscriber',\n",
    "        'AdjustmentsToCreditRating', 'InactiveSubs'\n",
    "    ]\n",
    "    \n",
    "    for col in non_negative_cols:\n",
    "        df[col] = df[col].mask(df[col] < 0, np.nan)\n",
    "\n",
    "    return df\n",
    "\n",
    "# sklearn-compatible transformer\n",
    "special_feature_processor = FunctionTransformer(preprocess_special_features)"
   ]
  },
  {
   "cell_type": "markdown",
   "id": "2a1cd3c5-32ba-4ba4-99d8-9ab78899eec4",
   "metadata": {},
   "source": [
    "# 7. Column Selector(deal with missing value)"
   ]
  },
  {
   "cell_type": "code",
   "execution_count": 14,
   "id": "93f78de0-c2bb-49c4-be99-26b351ec10de",
   "metadata": {},
   "outputs": [],
   "source": [
    "class ColumnClassifier(BaseEstimator, TransformerMixin):\n",
    "    def fit(self, X, y=None):\n",
    "        self.numeric_cols_ = X.select_dtypes(include=['float64', 'int64']).columns.tolist()\n",
    "        self.categorical_cols_ = X.select_dtypes(include=['object', 'category']).columns.tolist()\n",
    "        if 'HandsetPrice_Clean' in X.columns:\n",
    "            self.numeric_cols_.append('HandsetPrice_Clean')\n",
    "        if 'HandsetPrice_Unknown' in X.columns:\n",
    "            self.categorical_cols_.append('HandsetPrice_Unknown')\n",
    "        self.ordinal_cols_ = ['CreditRating', 'IncomeGroup']\n",
    "        self.nominal_cols_ = [col for col in self.categorical_cols_ if col not in self.ordinal_cols_ and col != 'ServiceArea']\n",
    "        return self\n",
    "    def transform(self, X): \n",
    "        return X"
   ]
  },
  {
   "cell_type": "markdown",
   "id": "c72e72a4-8c62-4462-8629-2f8526567e06",
   "metadata": {},
   "source": [
    "# 8. Build pipeline constructor"
   ]
  },
  {
   "cell_type": "code",
   "execution_count": 15,
   "id": "e50ff9f9-4330-46ec-87e3-53b911bac9fd",
   "metadata": {},
   "outputs": [],
   "source": [
    "def build_pipeline(use_scaling=True):\n",
    "    def _pipeline(X):\n",
    "        X = special_feature_processor.fit_transform(X)\n",
    "        selector = ColumnClassifier().fit(X)\n",
    "\n",
    "        numeric_steps = [('imputer', SimpleImputer(strategy='median'))]\n",
    "        if use_scaling:\n",
    "            numeric_steps.append(('scaler', StandardScaler()))\n",
    "        numeric_pipe = Pipeline(numeric_steps)\n",
    "\n",
    "        ordinal_pipe = Pipeline([\n",
    "            ('imputer', SimpleImputer(strategy='most_frequent')),\n",
    "            ('encoder', OrdinalEncoder())\n",
    "        ])\n",
    "\n",
    "        nominal_pipe = Pipeline([\n",
    "            ('imputer', SimpleImputer(strategy='most_frequent')),\n",
    "            ('encoder', OneHotEncoder(drop='first', handle_unknown='ignore', sparse_output=False))\n",
    "        ])\n",
    "\n",
    "        return Pipeline([\n",
    "            ('special', special_feature_processor),\n",
    "            ('col_transform', ColumnTransformer([\n",
    "                ('num', numeric_pipe, selector.numeric_cols_),\n",
    "                ('ord', ordinal_pipe, selector.ordinal_cols_),\n",
    "                ('nom', nominal_pipe, selector.nominal_cols_),\n",
    "                ('service', TargetMeanEncoder(col='ServiceArea'), ['ServiceArea'])\n",
    "            ]))\n",
    "        ])\n",
    "    return _pipeline\n"
   ]
  },
  {
   "cell_type": "markdown",
   "id": "d2d39974-0f31-4847-9664-d1e8bcf993c5",
   "metadata": {},
   "source": [
    "# 9. Apply Preprocessing Pipelines"
   ]
  },
  {
   "cell_type": "code",
   "execution_count": 16,
   "id": "07fdd07e-d836-4754-9631-b3d6d557cae1",
   "metadata": {
    "scrolled": true
   },
   "outputs": [],
   "source": [
    "baseline_builder = build_pipeline(use_scaling=True)\n",
    "deep_builder = build_pipeline(use_scaling=True)\n",
    "\n",
    "baseline_pipeline = baseline_builder(X_train)\n",
    "deep_pipeline = deep_builder(X_train)\n",
    "\n",
    "X_train_base = baseline_pipeline.fit_transform(X_train, y_train)\n",
    "X_val_base = baseline_pipeline.transform(X_val)\n",
    "X_test_base = baseline_pipeline.transform(X_test)\n",
    "\n",
    "X_train_deep = deep_pipeline.fit_transform(X_train, y_train)\n",
    "X_val_deep = deep_pipeline.transform(X_val)\n",
    "X_test_deep = deep_pipeline.transform(X_test)\n",
    "\n",
    "# Save pipeline objects\n",
    "joblib.dump(baseline_pipeline, get_save_path(\"baseline.pkl\"))\n",
    "joblib.dump(deep_pipeline, get_save_path(\"deep.pkl\"))\n",
    "\n",
    "# Save processed datasets\n",
    "pd.DataFrame(X_train_base).to_csv(get_save_path(\"X_train_base.csv\"), index=False)\n",
    "pd.DataFrame(X_val_base).to_csv(get_save_path(\"X_val_base.csv\"), index=False)\n",
    "pd.DataFrame(X_test_base).to_csv(get_save_path(\"X_test_base.csv\"), index=False)\n",
    "\n",
    "pd.DataFrame(X_train_deep).to_csv(get_save_path(\"X_train_deep.csv\"), index=False)\n",
    "pd.DataFrame(X_val_deep).to_csv(get_save_path(\"X_val_deep.csv\"), index=False)\n",
    "pd.DataFrame(X_test_deep).to_csv(get_save_path(\"X_test_deep.csv\"), index=False)\n",
    "\n",
    "y_train.to_csv(get_save_path(\"y_train.csv\"), index=False)\n",
    "y_val.to_csv(get_save_path(\"y_val.csv\"), index=False)\n",
    "y_test.to_csv(get_save_path(\"y_test.csv\"), index=False)"
   ]
  },
  {
   "cell_type": "code",
   "execution_count": 17,
   "id": "9aae5496-0519-4797-b579-4e1119b4de92",
   "metadata": {},
   "outputs": [
    {
     "name": "stdout",
     "output_type": "stream",
     "text": [
      "0\n"
     ]
    }
   ],
   "source": [
    "print(np.isnan(X_train_base).sum())  # 應該要是 0"
   ]
  },
  {
   "cell_type": "code",
   "execution_count": 18,
   "id": "25292a5a-acd8-4347-b12b-aee5b8571894",
   "metadata": {},
   "outputs": [
    {
     "data": {
      "text/html": [
       "<div>\n",
       "<style scoped>\n",
       "    .dataframe tbody tr th:only-of-type {\n",
       "        vertical-align: middle;\n",
       "    }\n",
       "\n",
       "    .dataframe tbody tr th {\n",
       "        vertical-align: top;\n",
       "    }\n",
       "\n",
       "    .dataframe thead th {\n",
       "        text-align: right;\n",
       "    }\n",
       "</style>\n",
       "<table border=\"1\" class=\"dataframe\">\n",
       "  <thead>\n",
       "    <tr style=\"text-align: right;\">\n",
       "      <th></th>\n",
       "      <th>MonthlyRevenue</th>\n",
       "      <th>MonthlyMinutes</th>\n",
       "      <th>TotalRecurringCharge</th>\n",
       "      <th>DirectorAssistedCalls</th>\n",
       "      <th>OverageMinutes</th>\n",
       "      <th>RoamingCalls</th>\n",
       "      <th>PercChangeMinutes</th>\n",
       "      <th>PercChangeRevenues</th>\n",
       "      <th>DroppedCalls</th>\n",
       "      <th>UnansweredCalls</th>\n",
       "      <th>...</th>\n",
       "      <th>OwnsMotorcycle</th>\n",
       "      <th>AdjustmentsToCreditRating</th>\n",
       "      <th>HandsetPrice</th>\n",
       "      <th>MadeCallToRetentionTeam</th>\n",
       "      <th>CreditRating</th>\n",
       "      <th>PrizmCode</th>\n",
       "      <th>Occupation</th>\n",
       "      <th>MaritalStatus</th>\n",
       "      <th>InactiveSubs</th>\n",
       "      <th>HandsetDiff</th>\n",
       "    </tr>\n",
       "  </thead>\n",
       "  <tbody>\n",
       "    <tr>\n",
       "      <th>41995</th>\n",
       "      <td>56.42</td>\n",
       "      <td>580.0</td>\n",
       "      <td>45.0</td>\n",
       "      <td>3.96</td>\n",
       "      <td>38.0</td>\n",
       "      <td>0.0</td>\n",
       "      <td>253.0</td>\n",
       "      <td>32.0</td>\n",
       "      <td>3.3</td>\n",
       "      <td>19.0</td>\n",
       "      <td>...</td>\n",
       "      <td>No</td>\n",
       "      <td>0</td>\n",
       "      <td>150</td>\n",
       "      <td>No</td>\n",
       "      <td>2-High</td>\n",
       "      <td>Other</td>\n",
       "      <td>Other</td>\n",
       "      <td>Unknown</td>\n",
       "      <td>0</td>\n",
       "      <td>1.0</td>\n",
       "    </tr>\n",
       "    <tr>\n",
       "      <th>17667</th>\n",
       "      <td>19.50</td>\n",
       "      <td>31.0</td>\n",
       "      <td>18.0</td>\n",
       "      <td>0.25</td>\n",
       "      <td>4.0</td>\n",
       "      <td>0.0</td>\n",
       "      <td>-16.0</td>\n",
       "      <td>-7.9</td>\n",
       "      <td>0.3</td>\n",
       "      <td>1.7</td>\n",
       "      <td>...</td>\n",
       "      <td>No</td>\n",
       "      <td>0</td>\n",
       "      <td>30</td>\n",
       "      <td>No</td>\n",
       "      <td>2-High</td>\n",
       "      <td>Other</td>\n",
       "      <td>Other</td>\n",
       "      <td>Unknown</td>\n",
       "      <td>0</td>\n",
       "      <td>0.0</td>\n",
       "    </tr>\n",
       "    <tr>\n",
       "      <th>22235</th>\n",
       "      <td>55.89</td>\n",
       "      <td>770.0</td>\n",
       "      <td>30.0</td>\n",
       "      <td>0.25</td>\n",
       "      <td>66.0</td>\n",
       "      <td>0.2</td>\n",
       "      <td>-538.0</td>\n",
       "      <td>-23.2</td>\n",
       "      <td>25.3</td>\n",
       "      <td>73.3</td>\n",
       "      <td>...</td>\n",
       "      <td>No</td>\n",
       "      <td>0</td>\n",
       "      <td>Unknown</td>\n",
       "      <td>No</td>\n",
       "      <td>2-High</td>\n",
       "      <td>Suburban</td>\n",
       "      <td>Other</td>\n",
       "      <td>Yes</td>\n",
       "      <td>0</td>\n",
       "      <td>0.0</td>\n",
       "    </tr>\n",
       "    <tr>\n",
       "      <th>45307</th>\n",
       "      <td>22.35</td>\n",
       "      <td>1026.0</td>\n",
       "      <td>25.0</td>\n",
       "      <td>0.00</td>\n",
       "      <td>16.0</td>\n",
       "      <td>0.0</td>\n",
       "      <td>-1026.0</td>\n",
       "      <td>-22.4</td>\n",
       "      <td>0.7</td>\n",
       "      <td>244.7</td>\n",
       "      <td>...</td>\n",
       "      <td>No</td>\n",
       "      <td>0</td>\n",
       "      <td>Unknown</td>\n",
       "      <td>No</td>\n",
       "      <td>5-Low</td>\n",
       "      <td>Suburban</td>\n",
       "      <td>Other</td>\n",
       "      <td>Unknown</td>\n",
       "      <td>0</td>\n",
       "      <td>0.0</td>\n",
       "    </tr>\n",
       "    <tr>\n",
       "      <th>49444</th>\n",
       "      <td>73.09</td>\n",
       "      <td>598.0</td>\n",
       "      <td>70.0</td>\n",
       "      <td>0.00</td>\n",
       "      <td>33.0</td>\n",
       "      <td>0.0</td>\n",
       "      <td>-305.0</td>\n",
       "      <td>-13.1</td>\n",
       "      <td>4.3</td>\n",
       "      <td>34.0</td>\n",
       "      <td>...</td>\n",
       "      <td>No</td>\n",
       "      <td>0</td>\n",
       "      <td>200</td>\n",
       "      <td>No</td>\n",
       "      <td>5-Low</td>\n",
       "      <td>Suburban</td>\n",
       "      <td>Other</td>\n",
       "      <td>No</td>\n",
       "      <td>1</td>\n",
       "      <td>2.0</td>\n",
       "    </tr>\n",
       "  </tbody>\n",
       "</table>\n",
       "<p>5 rows × 51 columns</p>\n",
       "</div>"
      ],
      "text/plain": [
       "       MonthlyRevenue  MonthlyMinutes  TotalRecurringCharge  \\\n",
       "41995           56.42           580.0                  45.0   \n",
       "17667           19.50            31.0                  18.0   \n",
       "22235           55.89           770.0                  30.0   \n",
       "45307           22.35          1026.0                  25.0   \n",
       "49444           73.09           598.0                  70.0   \n",
       "\n",
       "       DirectorAssistedCalls  OverageMinutes  RoamingCalls  PercChangeMinutes  \\\n",
       "41995                   3.96            38.0           0.0              253.0   \n",
       "17667                   0.25             4.0           0.0              -16.0   \n",
       "22235                   0.25            66.0           0.2             -538.0   \n",
       "45307                   0.00            16.0           0.0            -1026.0   \n",
       "49444                   0.00            33.0           0.0             -305.0   \n",
       "\n",
       "       PercChangeRevenues  DroppedCalls  UnansweredCalls  ...  OwnsMotorcycle  \\\n",
       "41995                32.0           3.3             19.0  ...              No   \n",
       "17667                -7.9           0.3              1.7  ...              No   \n",
       "22235               -23.2          25.3             73.3  ...              No   \n",
       "45307               -22.4           0.7            244.7  ...              No   \n",
       "49444               -13.1           4.3             34.0  ...              No   \n",
       "\n",
       "       AdjustmentsToCreditRating  HandsetPrice  MadeCallToRetentionTeam  \\\n",
       "41995                          0           150                       No   \n",
       "17667                          0            30                       No   \n",
       "22235                          0       Unknown                       No   \n",
       "45307                          0       Unknown                       No   \n",
       "49444                          0           200                       No   \n",
       "\n",
       "       CreditRating  PrizmCode  Occupation  MaritalStatus  InactiveSubs  \\\n",
       "41995        2-High      Other       Other        Unknown             0   \n",
       "17667        2-High      Other       Other        Unknown             0   \n",
       "22235        2-High   Suburban       Other            Yes             0   \n",
       "45307         5-Low   Suburban       Other        Unknown             0   \n",
       "49444         5-Low   Suburban       Other             No             1   \n",
       "\n",
       "      HandsetDiff  \n",
       "41995         1.0  \n",
       "17667         0.0  \n",
       "22235         0.0  \n",
       "45307         0.0  \n",
       "49444         2.0  \n",
       "\n",
       "[5 rows x 51 columns]"
      ]
     },
     "execution_count": 18,
     "metadata": {},
     "output_type": "execute_result"
    }
   ],
   "source": [
    "X_train.head()"
   ]
  }
 ],
 "metadata": {
  "kernelspec": {
   "display_name": "Python 3 (ACTL3143)",
   "language": "python",
   "name": "actl3143"
  },
  "language_info": {
   "codemirror_mode": {
    "name": "ipython",
    "version": 3
   },
   "file_extension": ".py",
   "mimetype": "text/x-python",
   "name": "python",
   "nbconvert_exporter": "python",
   "pygments_lexer": "ipython3",
   "version": "3.11.11"
  }
 },
 "nbformat": 4,
 "nbformat_minor": 5
}
